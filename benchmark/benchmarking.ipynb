{
 "cells": [
  {
   "cell_type": "markdown",
   "metadata": {},
   "source": [
    "# Notebook de Benchmarking"
   ]
  },
  {
   "cell_type": "code",
   "execution_count": null,
   "metadata": {},
   "outputs": [
    {
     "name": "stdout",
     "output_type": "stream",
     "text": [
      "'src' agregado a sys.path: g:\\Mi unidad\\EnorChile\\GIT\\practicos-rag\\src\n"
     ]
    }
   ],
   "source": [
    "# ------------------------------------------------------------\n",
    "# Env configuration\n",
    "# ------------------------------------------------------------\n",
    "import sys\n",
    "import os\n",
    "from dotenv import load_dotenv\n",
    "\n",
    "import pandas as pd\n",
    "\n",
    "# Base path of the project (goes up one level from the current directory)\n",
    "BASE_DIR = os.path.abspath(os.path.join(os.getcwd(), \"..\"))\n",
    "SRC_PATH = os.path.join(BASE_DIR, \"src\")\n",
    "\n",
    "# Check if `src` is in sys.path, add it if not\n",
    "if SRC_PATH not in sys.path:\n",
    "    sys.path.append(SRC_PATH)\n",
    "    print(f\"'src' added to sys.path: {SRC_PATH}\")\n",
    "\n",
    "# Ensure the `loaders` folder exists within `src`\n",
    "loaders_path = os.path.join(SRC_PATH, \"loaders\")\n",
    "if not os.path.exists(loaders_path):\n",
    "    raise FileNotFoundError(f\"Folder 'loaders' not found in {SRC_PATH}. Check the project structure.\")\n",
    "\n",
    "# Import required modules from the project\n",
    "from retrievers.retriever import Retriever\n",
    "from langchain_core.documents import Document\n",
    "import evaluation.evaluation_ragas as eval\n",
    "from qdrant_client import QdrantClient\n"
   ]
  },
  {
   "cell_type": "code",
   "execution_count": null,
   "metadata": {},
   "outputs": [
    {
     "name": "stdout",
     "output_type": "stream",
     "text": [
      "Conectando a Qdrant...\n",
      "Conexión a Qdrant establecida con éxito.\n"
     ]
    }
   ],
   "source": [
    "# ------------------------------------------------------------\n",
    "#  Qdrant Connection\n",
    "# ------------------------------------------------------------\n",
    "\n",
    "# Load environment variables from the .env file\n",
    "load_dotenv()\n",
    "\n",
    "# Read variables from .env\n",
    "QDRANT_URL = os.getenv(\"QDRANT_URL\")\n",
    "QDRANT_API_KEY = os.getenv(\"QDRANT_API_KEY\")\n",
    "INDEX_NAME = \"embeddings-version-2\"\n",
    "\n",
    "# Validate that the variables were loaded correctly\n",
    "if not QDRANT_URL or not QDRANT_API_KEY:\n",
    "    raise ValueError(\"The variables QDRANT_URL or QDRANT_API_KEY are not properly configured in the .env file\")\n",
    "\n",
    "print(\"Connecting to Qdrant...\")\n",
    "qdrant_client = QdrantClient(url=QDRANT_URL, api_key=QDRANT_API_KEY)\n",
    "print(\"Connection to Qdrant successfully established.\")"
   ]
  },
  {
   "cell_type": "code",
   "execution_count": 5,
   "metadata": {},
   "outputs": [],
   "source": [
    "# ------------------------------------------------------------\n",
    "# Generate Embedding\n",
    "# ------------------------------------------------------------\n",
    "\n",
    "from openai import OpenAI  # Import the OpenAI client library\n",
    "\n",
    "# Initialize the OpenAI client using the API key from environment variables\n",
    "client = OpenAI(api_key=os.getenv(\"OPENAI_API_KEY\"))\n",
    "\n",
    "def get_query_embedding(query):\n",
    "    \"\"\"\n",
    "    Generate an embedding for a given query using the 'text-embedding-ada-002' model.\n",
    "\n",
    "    Args:\n",
    "        query (str): The input text query for which the embedding is generated.\n",
    "\n",
    "    Returns:\n",
    "        list: A list representing the embedding vector of the input query.\n",
    "    \"\"\"\n",
    "    # Request the embedding for the input query from OpenAI\n",
    "    response = client.embeddings.create(\n",
    "        model=\"text-embedding-ada-002\",  # Specify the model to use for embeddings\n",
    "        input=query  # The input query text\n",
    "    )\n",
    "    # Extract the embedding vector from the API response\n",
    "    embedding = response.data[0].embedding\n",
    "    \n",
    "    return embedding  # Return the embedding vector"
   ]
  },
  {
   "cell_type": "code",
   "execution_count": 6,
   "metadata": {},
   "outputs": [],
   "source": [
    "# ------------------------------------------------------------\n",
    "# Qdrant Search \n",
    "# ------------------------------------------------------------\n",
    "\n",
    "def search_qdrant(qdrant_client, index_name, query_vector, limit=5):\n",
    "    \"\"\"\n",
    "    Perform a search in Qdrant to find the most similar points.\n",
    "\n",
    "    Parameters:\n",
    "        - qdrant_client: Qdrant client instance.\n",
    "        - index_name: Name of the collection to query.\n",
    "        - query_vector: The query vector for the search.\n",
    "        - limit: Number of desired results (default is 5).\n",
    "\n",
    "    Returns:\n",
    "        - List of found results, including vectors and payloads.\n",
    "    \"\"\"\n",
    "    # Query the Qdrant collection for points similar to the query vector\n",
    "    results = qdrant_client.query_points(\n",
    "                    collection_name=index_name,  # Name of the collection\n",
    "                    query=query_vector,          # Query vector for similarity search\n",
    "                    limit=limit,                 # Limit the number of results\n",
    "                    using=\"default\",             # Use the default query method\n",
    "                    with_payload=True,           # Include payloads in the results\n",
    "                    with_vectors=True,           # Include vectors in the results\n",
    "                )\n",
    "    return results.points  # Return the list of matching points\n"
   ]
  },
  {
   "cell_type": "code",
   "execution_count": 7,
   "metadata": {},
   "outputs": [],
   "source": [
    "# ------------------------------------------------------------\n",
    "# Combine embedding and vector searching\n",
    "# ------------------------------------------------------------\n",
    "\n",
    "def embed_and_search(query, collection, limit=5):\n",
    "    # Generate embedding for the query\n",
    "    try:\n",
    "        query_embedding = get_query_embedding(query)\n",
    "        if not isinstance(query_embedding, list) or len(query_embedding) != 1536:\n",
    "            raise ValueError(\"The query embedding does not have the expected format (list with 1536 dimensions).\")\n",
    "\n",
    "        # Validate the format of the generated embedding\n",
    "        \n",
    "    except Exception as e:\n",
    "        print(f\"Error generating the query embedding: {e}\")\n",
    "        raise\n",
    "\n",
    "    index_name = collection  # Name of the collection in Qdrant\n",
    "\n",
    "    try:\n",
    "        results = search_qdrant(qdrant_client, index_name, query_embedding, limit=limit)\n",
    "    except Exception as e:\n",
    "        print(f\"Error performing the search in Qdrant: {e}\")\n",
    "        results = []\n",
    "\n",
    "    return results"
   ]
  },
  {
   "cell_type": "code",
   "execution_count": 8,
   "metadata": {},
   "outputs": [
    {
     "name": "stdout",
     "output_type": "stream",
     "text": [
      "Query 0/10: ¿Qué se entiende por cerveza?\n"
     ]
    },
    {
     "name": "stderr",
     "output_type": "stream",
     "text": [
      "g:\\Mi unidad\\EnorChile\\GIT\\practicos-rag\\src\\retrievers\\retriever.py:17: LangChainDeprecationWarning: The class `ChatOpenAI` was deprecated in LangChain 0.0.10 and will be removed in 1.0. An updated version of the class exists in the :class:`~langchain-openai package and should be used instead. To use it run `pip install -U :class:`~langchain-openai` and import as `from :class:`~langchain_openai import ChatOpenAI``.\n",
      "  self.llm = ChatOpenAI(model_name=\"gpt-3.5-turbo\")\n",
      "g:\\Mi unidad\\EnorChile\\GIT\\practicos-rag\\src\\retrievers\\retriever.py:62: LangChainDeprecationWarning: The class `LLMChain` was deprecated in LangChain 0.1.17 and will be removed in 1.0. Use :meth:`~RunnableSequence, e.g., `prompt | llm`` instead.\n",
      "  map_chain = LLMChain(llm=self.llm, prompt=map_prompt)\n"
     ]
    },
    {
     "data": {
      "application/vnd.jupyter.widget-view+json": {
       "model_id": "6b8c5e32e9f44434a1034dc1410b4cf3",
       "version_major": 2,
       "version_minor": 0
      },
      "text/plain": [
       "Evaluating:   0%|          | 0/4 [00:00<?, ?it/s]"
      ]
     },
     "metadata": {},
     "output_type": "display_data"
    },
    {
     "data": {
      "application/vnd.jupyter.widget-view+json": {
       "model_id": "c47f49de69e04c3da6d28bf9de6c2206",
       "version_major": 2,
       "version_minor": 0
      },
      "text/plain": [
       "Evaluating:   0%|          | 0/4 [00:00<?, ?it/s]"
      ]
     },
     "metadata": {},
     "output_type": "display_data"
    },
    {
     "name": "stdout",
     "output_type": "stream",
     "text": [
      "Query 1/10: ¿Cómo se clasifican las cervezas?\n"
     ]
    },
    {
     "data": {
      "application/vnd.jupyter.widget-view+json": {
       "model_id": "1a96e7461043487c8988618bd67e315b",
       "version_major": 2,
       "version_minor": 0
      },
      "text/plain": [
       "Evaluating:   0%|          | 0/4 [00:00<?, ?it/s]"
      ]
     },
     "metadata": {},
     "output_type": "display_data"
    },
    {
     "data": {
      "application/vnd.jupyter.widget-view+json": {
       "model_id": "37833ff7b1ea448daaea2df00c124353",
       "version_major": 2,
       "version_minor": 0
      },
      "text/plain": [
       "Evaluating:   0%|          | 0/4 [00:00<?, ?it/s]"
      ]
     },
     "metadata": {},
     "output_type": "display_data"
    },
    {
     "name": "stdout",
     "output_type": "stream",
     "text": [
      "Query 2/10: ¿Qué se define como sidra?\n"
     ]
    },
    {
     "data": {
      "application/vnd.jupyter.widget-view+json": {
       "model_id": "47857ea7259849849d013b74853706b7",
       "version_major": 2,
       "version_minor": 0
      },
      "text/plain": [
       "Evaluating:   0%|          | 0/4 [00:00<?, ?it/s]"
      ]
     },
     "metadata": {},
     "output_type": "display_data"
    },
    {
     "name": "stderr",
     "output_type": "stream",
     "text": [
      "No statements were generated from the answer.\n"
     ]
    },
    {
     "data": {
      "application/vnd.jupyter.widget-view+json": {
       "model_id": "0bc0ee505bf044eeb65ce1fe81fe1f1b",
       "version_major": 2,
       "version_minor": 0
      },
      "text/plain": [
       "Evaluating:   0%|          | 0/4 [00:00<?, ?it/s]"
      ]
     },
     "metadata": {},
     "output_type": "display_data"
    },
    {
     "name": "stdout",
     "output_type": "stream",
     "text": [
      "Query 3/10: ¿Se pueden añadir aromas a los vinos?\n"
     ]
    },
    {
     "data": {
      "application/vnd.jupyter.widget-view+json": {
       "model_id": "2b136c89c92c48df80f1b559c49cbdf7",
       "version_major": 2,
       "version_minor": 0
      },
      "text/plain": [
       "Evaluating:   0%|          | 0/4 [00:00<?, ?it/s]"
      ]
     },
     "metadata": {},
     "output_type": "display_data"
    },
    {
     "data": {
      "application/vnd.jupyter.widget-view+json": {
       "model_id": "13385190d4af475c8dfd07f0940e25fd",
       "version_major": 2,
       "version_minor": 0
      },
      "text/plain": [
       "Evaluating:   0%|          | 0/4 [00:00<?, ?it/s]"
      ]
     },
     "metadata": {},
     "output_type": "display_data"
    },
    {
     "name": "stdout",
     "output_type": "stream",
     "text": [
      "Query 4/10: ¿Los condimentos vegetales tienen algunas restricciones?\n"
     ]
    },
    {
     "data": {
      "application/vnd.jupyter.widget-view+json": {
       "model_id": "0e27a5e834ba4d55be6a0466f73e921e",
       "version_major": 2,
       "version_minor": 0
      },
      "text/plain": [
       "Evaluating:   0%|          | 0/4 [00:00<?, ?it/s]"
      ]
     },
     "metadata": {},
     "output_type": "display_data"
    },
    {
     "data": {
      "application/vnd.jupyter.widget-view+json": {
       "model_id": "0afc03043249463eb41bccf865550868",
       "version_major": 2,
       "version_minor": 0
      },
      "text/plain": [
       "Evaluating:   0%|          | 0/4 [00:00<?, ?it/s]"
      ]
     },
     "metadata": {},
     "output_type": "display_data"
    },
    {
     "name": "stdout",
     "output_type": "stream",
     "text": [
      "Query 5/10: ¿Qué caracteristicas debe tener la harina de chia?\n"
     ]
    },
    {
     "data": {
      "application/vnd.jupyter.widget-view+json": {
       "model_id": "5f6e1d1735054a4ca425d725abeeef6d",
       "version_major": 2,
       "version_minor": 0
      },
      "text/plain": [
       "Evaluating:   0%|          | 0/4 [00:00<?, ?it/s]"
      ]
     },
     "metadata": {},
     "output_type": "display_data"
    },
    {
     "data": {
      "application/vnd.jupyter.widget-view+json": {
       "model_id": "a2308d00f0b040dcbc57e35c3e5b9f55",
       "version_major": 2,
       "version_minor": 0
      },
      "text/plain": [
       "Evaluating:   0%|          | 0/4 [00:00<?, ?it/s]"
      ]
     },
     "metadata": {},
     "output_type": "display_data"
    },
    {
     "name": "stdout",
     "output_type": "stream",
     "text": [
      "Query 6/10: ¿Quiénes deben cumplir con la regulación alimentaria?\n"
     ]
    },
    {
     "data": {
      "application/vnd.jupyter.widget-view+json": {
       "model_id": "03daf203840a449492da4346d3f80923",
       "version_major": 2,
       "version_minor": 0
      },
      "text/plain": [
       "Evaluating:   0%|          | 0/4 [00:00<?, ?it/s]"
      ]
     },
     "metadata": {},
     "output_type": "display_data"
    },
    {
     "data": {
      "application/vnd.jupyter.widget-view+json": {
       "model_id": "e65a0985233b4f1d89d61909997c4484",
       "version_major": 2,
       "version_minor": 0
      },
      "text/plain": [
       "Evaluating:   0%|          | 0/4 [00:00<?, ?it/s]"
      ]
     },
     "metadata": {},
     "output_type": "display_data"
    },
    {
     "name": "stdout",
     "output_type": "stream",
     "text": [
      "Query 7/10: ¿Qué se define como aditivo alimentario?\n"
     ]
    },
    {
     "data": {
      "application/vnd.jupyter.widget-view+json": {
       "model_id": "f56e6c715a6a435ebecd916e9e344682",
       "version_major": 2,
       "version_minor": 0
      },
      "text/plain": [
       "Evaluating:   0%|          | 0/4 [00:00<?, ?it/s]"
      ]
     },
     "metadata": {},
     "output_type": "display_data"
    },
    {
     "name": "stderr",
     "output_type": "stream",
     "text": [
      "No statements were generated from the answer.\n"
     ]
    },
    {
     "data": {
      "application/vnd.jupyter.widget-view+json": {
       "model_id": "92f128d56c0f42ab9b5916d7982820fd",
       "version_major": 2,
       "version_minor": 0
      },
      "text/plain": [
       "Evaluating:   0%|          | 0/4 [00:00<?, ?it/s]"
      ]
     },
     "metadata": {},
     "output_type": "display_data"
    },
    {
     "name": "stdout",
     "output_type": "stream",
     "text": [
      "Query 8/10: ¿Cuáles son los límites de metales aceptados en los alimentos?\n"
     ]
    },
    {
     "data": {
      "application/vnd.jupyter.widget-view+json": {
       "model_id": "d3746dd45db74832b526c498d517d4e9",
       "version_major": 2,
       "version_minor": 0
      },
      "text/plain": [
       "Evaluating:   0%|          | 0/4 [00:00<?, ?it/s]"
      ]
     },
     "metadata": {},
     "output_type": "display_data"
    },
    {
     "data": {
      "application/vnd.jupyter.widget-view+json": {
       "model_id": "d92705b5046d4defb193f2eb69c5831a",
       "version_major": 2,
       "version_minor": 0
      },
      "text/plain": [
       "Evaluating:   0%|          | 0/4 [00:00<?, ?it/s]"
      ]
     },
     "metadata": {},
     "output_type": "display_data"
    },
    {
     "name": "stdout",
     "output_type": "stream",
     "text": [
      "Query 9/10: ¿Qué antioxidantes o sinergistas pueden agregarse a los aceites y grasas vegetales comestibles?\n"
     ]
    },
    {
     "data": {
      "application/vnd.jupyter.widget-view+json": {
       "model_id": "4e1740024794496491f3fe77a89aead2",
       "version_major": 2,
       "version_minor": 0
      },
      "text/plain": [
       "Evaluating:   0%|          | 0/4 [00:00<?, ?it/s]"
      ]
     },
     "metadata": {},
     "output_type": "display_data"
    },
    {
     "data": {
      "application/vnd.jupyter.widget-view+json": {
       "model_id": "507c474eae1c49e6be24b4400eae1edd",
       "version_major": 2,
       "version_minor": 0
      },
      "text/plain": [
       "Evaluating:   0%|          | 0/4 [00:00<?, ?it/s]"
      ]
     },
     "metadata": {},
     "output_type": "display_data"
    }
   ],
   "source": [
    "# ------------------------------------------------------------\n",
    "# Evaluation Routine\n",
    "# ------------------------------------------------------------\n",
    "\n",
    "eval_df = pd.read_excel('evaluacion.xlsx')\n",
    "coleccion = \"openai-750-overlap\"\n",
    "limit = 30\n",
    "\n",
    "# Initialize an empty list to collect results for each iteration\n",
    "eval_results = []\n",
    "\n",
    "for _, row in eval_df.iterrows():\n",
    "    query = row.iloc[0]  # Assuming the query is in the first column\n",
    "    ground_truth = row.iloc[1]\n",
    "    print(f'Query {_}/{len(eval_df)}: {query}')\n",
    "    \n",
    "    # Perform embedding and search\n",
    "    results = embed_and_search(query, coleccion, limit=limit)\n",
    "    chunks_basic = [point.payload['content'] for point in results]\n",
    "    chunks_advanced = Retriever().summarization(chunks_basic)['docs']\n",
    "    \n",
    "    list_documents = []\n",
    "\n",
    "    for doc in chunks_basic:\n",
    "        document = Document(\n",
    "            page_content=doc,\n",
    "            metadata={}\n",
    "        )\n",
    "        list_documents.append(document)\n",
    "    answer_basic, answer_adv = Retriever().process_query(list_documents=list_documents, enhanced=True, question=query,context=chunks_basic)\n",
    "    \n",
    "    # Evaluate RAGAS for basic and advanced retrieval\n",
    "    ragas_basic = eval.evaluate_ragas(query, answer_basic, chunks_basic, ground_truth)\n",
    "    ragas_basic['retrieval'] = \"Basic\"\n",
    "    \n",
    "    ragas_adv = eval.evaluate_ragas(query, answer_adv, chunks_advanced, ground_truth)\n",
    "    ragas_adv['retrieval'] = \"Advanced\"\n",
    "    \n",
    "    # Append results to the list\n",
    "    eval_results.append(ragas_basic)\n",
    "    eval_results.append(ragas_adv)\n",
    "\n",
    "# Consolidate all results into a single DataFrame\n",
    "df_eval = pd.concat(eval_results, ignore_index=True)"
   ]
  },
  {
   "cell_type": "code",
   "execution_count": 9,
   "metadata": {},
   "outputs": [],
   "source": [
    "df_eval.to_csv(f'evaluacion_{coleccion}.csv', index=False)"
   ]
  },
  {
   "cell_type": "code",
   "execution_count": null,
   "metadata": {},
   "outputs": [],
   "source": []
  },
  {
   "cell_type": "code",
   "execution_count": null,
   "metadata": {},
   "outputs": [],
   "source": []
  },
  {
   "cell_type": "code",
   "execution_count": null,
   "metadata": {},
   "outputs": [],
   "source": []
  }
 ],
 "metadata": {
  "kernelspec": {
   "display_name": "mia",
   "language": "python",
   "name": "python3"
  },
  "language_info": {
   "codemirror_mode": {
    "name": "ipython",
    "version": 3
   },
   "file_extension": ".py",
   "mimetype": "text/x-python",
   "name": "python",
   "nbconvert_exporter": "python",
   "pygments_lexer": "ipython3",
   "version": "3.11.0"
  }
 },
 "nbformat": 4,
 "nbformat_minor": 2
}
