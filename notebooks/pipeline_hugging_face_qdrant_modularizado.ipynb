{
 "cells": [
  {
   "cell_type": "markdown",
   "metadata": {},
   "source": [
    "# Loaders"
   ]
  },
  {
   "cell_type": "markdown",
   "metadata": {},
   "source": [
    "## Configuracion Inicial"
   ]
  },
  {
   "cell_type": "code",
   "execution_count": 1,
   "metadata": {},
   "outputs": [
    {
     "name": "stdout",
     "output_type": "stream",
     "text": [
      "Directorio actual del notebook: /Users/maximilianocruz/Documents/GitHub/practicos-rag/notebooks\n",
      "Rutas en sys.path:\n",
      "/Users/maximilianocruz/anaconda3/envs/proyecto_aplicado_rag/lib/python311.zip\n",
      "/Users/maximilianocruz/anaconda3/envs/proyecto_aplicado_rag/lib/python3.11\n",
      "/Users/maximilianocruz/anaconda3/envs/proyecto_aplicado_rag/lib/python3.11/lib-dynload\n",
      "\n",
      "/Users/maximilianocruz/anaconda3/envs/proyecto_aplicado_rag/lib/python3.11/site-packages\n",
      "../src\n"
     ]
    }
   ],
   "source": [
    "import sys\n",
    "import os\n",
    "\n",
    "# Verifica el directorio actual del notebook\n",
    "print(f\"Directorio actual del notebook: {os.getcwd()}\")\n",
    "\n",
    "# Asegúrate de que la ruta relativa a 'src' es correcta\n",
    "sys.path.append('../src')\n",
    "\n",
    "# Imprime el sys.path para verificar que 'src' está incluido\n",
    "print(\"Rutas en sys.path:\")\n",
    "print(\"\\n\".join(sys.path))"
   ]
  },
  {
   "cell_type": "markdown",
   "metadata": {},
   "source": [
    "## Ruta de los Datos"
   ]
  },
  {
   "cell_type": "code",
   "execution_count": 2,
   "metadata": {},
   "outputs": [],
   "source": [
    "from loaders.loaders import load_pdfs_from_folder\n",
    "\n",
    "# Ruta de la carpeta que contiene los PDFs\n",
    "pdf_folder = '../data/capitulos'"
   ]
  },
  {
   "cell_type": "markdown",
   "metadata": {},
   "source": [
    "## Prueba de Funcionamiento\n"
   ]
  },
  {
   "cell_type": "code",
   "execution_count": 3,
   "metadata": {},
   "outputs": [
    {
     "name": "stderr",
     "output_type": "stream",
     "text": [
      "/Users/maximilianocruz/anaconda3/envs/proyecto_aplicado_rag/lib/python3.11/site-packages/pypdf/_crypt_providers/_cryptography.py:31: CryptographyDeprecationWarning: ARC4 has been moved to cryptography.hazmat.decrepit.ciphers.algorithms.ARC4 and will be removed from this module in 48.0.0.\n",
      "  from cryptography.hazmat.primitives.ciphers.algorithms import AES, ARC4  # type: ignore[import]\n"
     ]
    },
    {
     "name": "stdout",
     "output_type": "stream",
     "text": [
      "Se cargó correctamente el archivo con PyPDFLoader: ../data/capitulos/capitulo6.pdf\n",
      "Se cargó correctamente el archivo con PyPDFLoader: ../data/capitulos/capitulo15.pdf\n",
      "Se cargó correctamente el archivo con PyPDFLoader: ../data/capitulos/capitulo14.pdf\n",
      "Se cargó correctamente el archivo con PyPDFLoader: ../data/capitulos/capitulo7.pdf\n",
      "Se cargó correctamente el archivo con PyPDFLoader: ../data/capitulos/capitulo5.pdf\n",
      "Se cargó correctamente el archivo con PyPDFLoader: ../data/capitulos/capitulo16.pdf\n",
      "Se cargó correctamente el archivo con PyPDFLoader: ../data/capitulos/capitulo17.pdf\n",
      "Se cargó correctamente el archivo con PyPDFLoader: ../data/capitulos/capitulo4.pdf\n",
      "Se cargó correctamente el archivo con PyPDFLoader: ../data/capitulos/capitulo13.pdf\n",
      "Se cargó correctamente el archivo con PyPDFLoader: ../data/capitulos/capitulo12.pdf\n",
      "Se cargó correctamente el archivo con PyPDFLoader: ../data/capitulos/capitulo1.pdf\n",
      "Se cargó correctamente el archivo con PyPDFLoader: ../data/capitulos/capitulo3.pdf\n",
      "Se cargó correctamente el archivo con PyPDFLoader: ../data/capitulos/capitulo10.pdf\n",
      "Se cargó correctamente el archivo con PyPDFLoader: ../data/capitulos/capitulo11.pdf\n",
      "Se cargó correctamente el archivo con PyPDFLoader: ../data/capitulos/capitulo2.pdf\n",
      "Se cargó correctamente el archivo con PyPDFLoader: ../data/capitulos/capitulo20.pdf\n",
      "Se cargó correctamente el archivo con PyPDFLoader: ../data/capitulos/capitulo21.pdf\n",
      "Se cargó correctamente el archivo con PyPDFLoader: ../data/capitulos/capitulo22.pdf\n",
      "Se cargó correctamente el archivo con PyPDFLoader: ../data/capitulos/capitulo9.pdf\n",
      "Se cargó correctamente el archivo con PyPDFLoader: ../data/capitulos/capitulo8.pdf\n",
      "Se cargó correctamente el archivo con PyPDFLoader: ../data/capitulos/capitulo19.pdf\n",
      "Se cargó correctamente el archivo con PyPDFLoader: ../data/capitulos/capitulo18.pdf\n",
      "Se procesaron 1688 documentos en total.\n",
      "Total de documentos cargados: 1688\n",
      "Contenido del primer documento:\n",
      "15 \n",
      " CAPÍTULO VI  \n",
      " \n",
      "ALIMENTOS CÁRNEOS Y AFINES  \n",
      " \n",
      " \n",
      "CARNES DE CONSUMO FRESCAS Y ENVASADAS  \n",
      " \n",
      "Artículo 247 (Resolución Conjunta SPReI y SAV N° 12 -E/2017)  \n",
      "Con la denominación genérica de carne, se entiende la parte comestible de los músculos de \n",
      "vacunos, bubalinos, porcinos, ovinos, caprinos, llamas, conejos domésticos, nutrias de criadero, \n",
      "pollos, pollas, gallos, gallinas, pavitos, pavitas, pavos, pavas, pat os domésticos, gansos \n",
      "domésticos y codornices, declarados aptos para la alimentac\n"
     ]
    }
   ],
   "source": [
    "# Prueba la función load_pdfs_from_folder\n",
    "documents = load_pdfs_from_folder(pdf_folder)\n",
    "\n",
    "# Muestra el número de documentos cargados\n",
    "print(f\"Total de documentos cargados: {len(documents)}\")\n",
    "\n",
    "# Inspecciona el contenido del primer documento (si existe)\n",
    "if documents:\n",
    "    print(\"Contenido del primer documento:\")\n",
    "    print(documents[0].page_content[:500])  # Los primeros 500 caracteres\n",
    "else:\n",
    "    print(\"No se cargaron documentos.\")\n"
   ]
  },
  {
   "cell_type": "markdown",
   "metadata": {},
   "source": [
    "# Prueba Chuncking"
   ]
  },
  {
   "cell_type": "code",
   "execution_count": 4,
   "metadata": {},
   "outputs": [
    {
     "name": "stdout",
     "output_type": "stream",
     "text": [
      "Número total de chunks: 7\n",
      "Primer chunk:\n",
      "15 \n",
      " CAPÍTULO VI  \n",
      " \n",
      "ALIMENTOS CÁRNEOS Y AFINES  \n",
      " \n",
      " \n",
      "CARNES DE CONSUMO FRESCAS Y ENVASADAS  \n",
      " \n",
      "Artículo 247 (Resolución Conjunta SPReI y SAV N° 12 -E/2017)  \n",
      "Con la denominación genérica de carne, se entiende la parte comestible de los músculos de \n",
      "vacunos, bubalinos, porcinos, ovinos, caprinos, llamas, conejos domésticos, nutrias de criadero, \n",
      "pollos, pollas, gallos, gallinas, pavitos, pavitas, pavos, pavas, pat os domésticos, gansos\n"
     ]
    }
   ],
   "source": [
    "# Importar el módulo de chunking\n",
    "from chunking.chunking import split_text_into_chunks\n",
    "\n",
    "# Cargar un documento como ejemplo\n",
    "sample_document = documents[0].page_content  # Usamos el contenido del primer documento\n",
    "\n",
    "# Dividir el texto en chunks\n",
    "chunks = split_text_into_chunks(sample_document, chunk_size=500, chunk_overlap=50)\n",
    "\n",
    "# Mostrar resultados\n",
    "print(f\"Número total de chunks: {len(chunks)}\")\n",
    "print(\"Primer chunk:\")\n",
    "print(chunks[0])"
   ]
  },
  {
   "cell_type": "code",
   "execution_count": 5,
   "metadata": {},
   "outputs": [
    {
     "name": "stdout",
     "output_type": "stream",
     "text": [
      "Segundo chunk:\n",
      "domésticos y codornices, declarados aptos para la alimentación humana por la inspección \n",
      "veterinaria oficial antes y después de la faena.  \n",
      "Con la misma definición se incluyen a los animales silvestres de caza o criados en cautiverio, \n",
      "pescados, crustáceos, moluscos y otras especies comestibles.  \n",
      "Por extensión se considera carne al diafragma y músculos de la lengua, no así los músculos de \n",
      "sostén del aparato hioideo, el corazón y el esófago.\n"
     ]
    }
   ],
   "source": [
    "print(\"Segundo chunk:\")\n",
    "print(chunks[1])"
   ]
  },
  {
   "cell_type": "code",
   "execution_count": 6,
   "metadata": {},
   "outputs": [
    {
     "name": "stdout",
     "output_type": "stream",
     "text": [
      "Longitudes de los chunks: [439, 446, 448, 436, 432, 406, 410]\n"
     ]
    }
   ],
   "source": [
    "chunk_lengths = [len(chunk) for chunk in chunks]\n",
    "print(f\"Longitudes de los chunks: {chunk_lengths}\")"
   ]
  },
  {
   "cell_type": "markdown",
   "metadata": {},
   "source": [
    "# Prueba Embeddings"
   ]
  },
  {
   "cell_type": "code",
   "execution_count": 7,
   "metadata": {},
   "outputs": [
    {
     "name": "stderr",
     "output_type": "stream",
     "text": [
      "/Users/maximilianocruz/anaconda3/envs/proyecto_aplicado_rag/lib/python3.11/site-packages/tqdm/auto.py:21: TqdmWarning: IProgress not found. Please update jupyter and ipywidgets. See https://ipywidgets.readthedocs.io/en/stable/user_install.html\n",
      "  from .autonotebook import tqdm as notebook_tqdm\n"
     ]
    },
    {
     "name": "stdout",
     "output_type": "stream",
     "text": [
      "Total de embeddings generados: 7\n",
      "Dimensión del primer embedding: 384\n",
      "[-3.07268053e-02  2.31081136e-02  1.47502795e-02 -2.20948812e-02\n",
      " -5.50419874e-02  1.61695704e-02  4.24097013e-03  7.03161210e-02\n",
      " -4.20954376e-02 -4.02674936e-02  3.89809757e-02 -7.82869980e-02\n",
      " -2.96427943e-02 -2.21642610e-02 -8.16780105e-02 -6.02643378e-02\n",
      "  1.66084860e-02  3.18117887e-02  1.57378837e-02  3.60982008e-02\n",
      "  1.82124674e-02  2.20728088e-02 -1.77926775e-02  1.05329432e-01\n",
      " -4.73682210e-02 -1.89930853e-02 -7.04628006e-02  3.32734101e-02\n",
      " -2.03790460e-02 -8.19230825e-02 -4.64547686e-02  8.92048851e-02\n",
      "  2.55675688e-02 -5.76609857e-02 -1.34823723e-02 -7.32895657e-02\n",
      " -4.74498942e-02 -4.19572182e-02  4.75305952e-02  7.57372603e-02\n",
      " -3.34649980e-02 -5.67039847e-02 -6.24237284e-02 -4.03096061e-03\n",
      "  1.13841081e-02 -9.82286930e-02 -1.16269916e-01  6.37466609e-02\n",
      "  4.53493409e-02 -3.81377749e-02 -5.00159636e-02 -5.05399853e-02\n",
      " -5.05890846e-02 -2.68268548e-02 -6.39493251e-03 -9.50408205e-02\n",
      " -1.09894782e-01 -4.38714586e-02  7.56253488e-04  8.58771354e-02\n",
      "  9.06303152e-02 -7.85042997e-03 -5.10653332e-02 -4.91096526e-02\n",
      " -5.51933460e-02  2.70641269e-03 -3.99803184e-03  2.52806582e-02\n",
      " -5.34339901e-03  7.86518492e-03  4.83782068e-02 -3.12514417e-02\n",
      "  3.78751531e-02  4.63228524e-02 -7.89189637e-02  6.55978173e-02\n",
      "  4.21948843e-02 -2.28536017e-02 -4.83926246e-03 -5.33974618e-02\n",
      "  1.58175528e-02  2.21372824e-02  3.55739729e-03  1.15532391e-02\n",
      "  4.52253185e-02  3.59833166e-02 -3.20655853e-02  4.87877131e-02\n",
      " -8.20436701e-03  4.68796380e-02 -1.67359579e-02  2.84986757e-02\n",
      " -6.70044217e-03 -2.61166058e-02 -1.81830232e-03  1.96378888e-03\n",
      "  9.05931517e-02 -6.75937161e-02  9.68337059e-02 -4.26584762e-03\n",
      "  7.92748854e-02 -4.38827574e-02  1.48044918e-02 -6.47159442e-02\n",
      " -1.47513092e-01  7.12542161e-02 -2.39198282e-02 -4.47192155e-02\n",
      "  1.42580336e-02  1.48372902e-02 -5.79046309e-02 -2.28570262e-03\n",
      " -6.11348189e-02 -8.56915042e-02 -1.69064939e-01  2.98976731e-02\n",
      "  9.71511006e-03 -9.03828815e-02 -5.37164090e-03 -5.59543185e-02\n",
      " -1.63838994e-02 -3.82037461e-02  1.33607937e-02 -7.47989118e-02\n",
      "  4.13906835e-02 -2.47261655e-02  3.88241634e-02  9.36382637e-33\n",
      " -8.78721625e-02 -4.62689176e-02  2.72358246e-02  8.22422281e-02\n",
      "  4.55815196e-02  9.27927089e-04 -6.22477308e-02 -1.58410501e-02\n",
      " -3.01540941e-02 -6.15248643e-02 -1.03142075e-01 -1.44870160e-02\n",
      " -4.74219993e-02  1.18290754e-02  4.93979752e-02  4.35847044e-02\n",
      "  3.43372412e-02 -8.21843222e-02 -3.91425565e-02 -4.32159118e-02\n",
      " -1.08222947e-01  2.98155118e-02 -4.48649190e-02  5.68251722e-02\n",
      " -1.05484445e-02  4.73398343e-02 -7.03345612e-02 -7.52283707e-02\n",
      " -2.42313184e-02  1.98100135e-02  9.27274749e-02  3.37556340e-02\n",
      " -7.94526748e-03  3.49421166e-02 -5.46890795e-02 -1.65029280e-02\n",
      " -4.14495580e-02 -4.93885092e-02 -5.39792590e-02 -1.06303087e-02\n",
      "  1.09308906e-01  6.58900067e-02  5.65408841e-02  6.98831901e-02\n",
      " -1.77482069e-02 -3.12688272e-03 -4.51168418e-03  4.17390168e-02\n",
      "  7.94116855e-02  4.16927263e-02 -9.60246008e-03  2.47144438e-02\n",
      " -2.54525132e-02 -2.33885776e-02 -1.98249929e-02  1.06385916e-01\n",
      " -4.53835204e-02  3.33476532e-03 -4.72763516e-02  1.79889780e-02\n",
      "  2.62950975e-02  4.70981374e-02  1.85727607e-02 -3.15497927e-02\n",
      " -9.16093308e-03  5.70925809e-02 -1.24096483e-01  5.97229302e-02\n",
      "  2.47156005e-02  7.46884570e-02  2.64480561e-02 -5.13138436e-02\n",
      " -3.13563086e-02  2.45913845e-02  3.84664871e-02  4.56988998e-02\n",
      "  5.81009537e-02  5.32493256e-02 -5.63591048e-02  1.60989743e-02\n",
      " -3.22090276e-02  9.27011203e-03  2.40133442e-02  3.69741931e-03\n",
      "  4.65504918e-03  1.02223270e-01 -6.60450710e-03  4.38941978e-02\n",
      "  1.11645333e-01  1.21814184e-01 -1.44992163e-03  2.68984213e-02\n",
      " -2.22358517e-02 -3.79742458e-02 -2.72908546e-02 -1.07044659e-32\n",
      "  9.38087516e-03  3.68306227e-02 -6.12926157e-03  2.55299192e-02\n",
      "  3.06460564e-03 -3.41079838e-04 -8.43858197e-02 -4.06281315e-02\n",
      "  3.16134840e-02 -2.61226706e-02 -3.67552489e-02  3.49192582e-02\n",
      "  6.12631626e-02 -8.51590484e-02  6.62708748e-03  6.45404235e-02\n",
      " -4.40854067e-03 -1.68497004e-02 -1.08081982e-01 -6.17510714e-02\n",
      " -1.07699841e-01  3.01196929e-02  6.95640892e-02 -2.20605545e-02\n",
      "  8.51323595e-04  5.33662620e-04 -3.37258130e-02 -4.51765321e-02\n",
      "  1.20477611e-02 -3.37200202e-02  6.42062500e-02 -9.09130201e-02\n",
      " -1.95447449e-02  4.32246141e-02  2.70008557e-02 -3.44082899e-02\n",
      "  7.40350559e-02 -2.40739416e-02  1.97556037e-02  7.33980164e-02\n",
      " -7.44017214e-02 -1.93176977e-02  6.41334802e-02  2.82107741e-02\n",
      "  2.18690261e-02  7.11391866e-03  2.12445892e-02 -1.08614765e-01\n",
      "  5.36089414e-04 -8.00093543e-03  1.17172882e-01  4.61685546e-02\n",
      " -3.02603748e-02  2.25668792e-02  5.41185997e-02  1.29403290e-03\n",
      "  4.76359166e-02 -2.22631469e-02  8.07097589e-04 -1.48955109e-02\n",
      "  9.51100662e-02  1.54741807e-02 -8.65885243e-02 -3.52066904e-02\n",
      "  6.78471848e-02 -7.91352019e-02 -8.55854973e-02 -2.13939697e-02\n",
      "  3.63037549e-02 -3.67125794e-02  3.20811681e-02  9.99094918e-03\n",
      " -7.60974512e-02 -5.50467847e-03 -8.23808759e-02  1.96902943e-03\n",
      " -2.56743208e-02 -2.71245986e-02  2.69190334e-02 -2.79080849e-02\n",
      "  1.56714395e-02 -3.36040817e-02 -3.90377874e-03 -1.91884069e-03\n",
      " -1.87711231e-02 -9.09260754e-03 -8.63806624e-03  1.66400950e-02\n",
      "  3.05703804e-02  9.23330635e-02 -1.52794393e-02  2.45732460e-02\n",
      " -1.69799924e-02  4.46875319e-02  4.81927171e-02 -5.75328549e-08\n",
      "  1.29542127e-01 -6.69157133e-02 -9.62967798e-02  2.77113691e-02\n",
      " -1.83365995e-03 -2.09869668e-02 -5.10655604e-02  4.37096953e-02\n",
      "  2.11160406e-02  6.24932162e-02 -1.26098292e-02  6.70647472e-02\n",
      "  1.53429676e-02  5.95710240e-02 -3.07970215e-02 -4.36514243e-02\n",
      "  4.87449020e-02  5.92975132e-02 -4.72247191e-02 -1.62172632e-03\n",
      " -5.76249473e-02  2.47590933e-02 -8.86140093e-02 -1.71890929e-02\n",
      " -4.30648029e-02 -7.82382116e-02  3.31932530e-02  5.03061935e-02\n",
      "  6.06057793e-02 -1.53960160e-03 -2.34014681e-03  1.75617151e-02\n",
      "  1.24272974e-02 -1.11788139e-01  4.92723333e-03  2.14857683e-02\n",
      " -2.26369351e-02  4.68381345e-02 -2.97888648e-02 -1.90860685e-03\n",
      "  1.02010176e-01 -6.03740364e-02 -5.30254506e-02  2.36662589e-02\n",
      " -3.64780203e-02 -2.39028279e-02 -2.60309335e-02  6.14491962e-02\n",
      "  2.52661556e-02  3.07255834e-02 -2.56193113e-02  3.71255726e-02\n",
      "  5.80887683e-02  3.63591276e-02 -5.58987595e-02 -4.08209339e-02\n",
      "  8.61303657e-02  4.10147086e-02  4.14358750e-02 -6.18350767e-02\n",
      "  8.61060224e-04  6.11863174e-02  8.57074484e-02  3.05091161e-02]\n"
     ]
    }
   ],
   "source": [
    "from sentence_transformers import SentenceTransformer\n",
    "\n",
    "# Cargar el modelo preentrenado\n",
    "model = SentenceTransformer('all-MiniLM-L6-v2')  # Puedes cambiar el modelo según lo que necesites\n",
    "\n",
    "# Asumiendo que ya tienes los chunks generados en la variable 'chunks'\n",
    "# Generar embeddings para todos los chunks\n",
    "embeddings = model.encode(chunks)\n",
    "\n",
    "# Verificar la cantidad y las dimensiones de los embeddings generados\n",
    "print(f\"Total de embeddings generados: {len(embeddings)}\")\n",
    "print(f\"Dimensión del primer embedding: {len(embeddings[0])}\")\n",
    "\n",
    "# Mostrar el primer embedding generado (como ejemplo)\n",
    "print(embeddings[0])"
   ]
  },
  {
   "cell_type": "markdown",
   "metadata": {},
   "source": [
    "# Generar todos los Chunks"
   ]
  },
  {
   "cell_type": "code",
   "execution_count": 8,
   "metadata": {},
   "outputs": [
    {
     "name": "stdout",
     "output_type": "stream",
     "text": [
      "Total de chunks generados: 10067\n",
      "Ejemplo de un chunk: 15 \n",
      " CAPÍTULO VI  \n",
      " \n",
      "ALIMENTOS CÁRNEOS Y AFINES  \n",
      " \n",
      " \n",
      "CARNES DE CONSUMO FRESCAS Y ENVASADAS  \n",
      " \n",
      "Artículo 247 (Resolución Conjunta SPReI y SAV N° 12 -E/2017)  \n",
      "Con la denominación genérica de carne, se entiende la parte comestible de los músculos de \n",
      "vacunos, bubalinos, porcinos, ovinos, caprinos, llamas, conejos domésticos, nutrias de criadero, \n",
      "pollos, pollas, gallos, gallinas, pavitos, pavitas, pavos, pavas, pat os domésticos, gansos\n"
     ]
    }
   ],
   "source": [
    "import uuid\n",
    "\n",
    "# Dividir todos los documentos en chunks\n",
    "all_chunks = []\n",
    "for document in documents:\n",
    "    chunks = split_text_into_chunks(document.page_content, chunk_size=500, chunk_overlap=50)\n",
    "    all_chunks.extend(chunks)\n",
    "\n",
    "# Crear una lista de IDs para los embeddings (Usando UUIDs)\n",
    "ids_list = [str(uuid.uuid4()) for _ in range(len(all_chunks))]  # Generamos un UUID para cada chunk\n",
    "\n",
    "# Crear metadatos, en este caso el contenido de cada chunk\n",
    "metadata_list = [{\"content\": chunk} for chunk in all_chunks]  # Guardamos el contenido de cada chunk como metadato\n",
    "\n",
    "# Mostrar información sobre los chunks generados\n",
    "print(f\"Total de chunks generados: {len(all_chunks)}\")\n",
    "print(f\"Ejemplo de un chunk: {all_chunks[0]}\")"
   ]
  },
  {
   "cell_type": "markdown",
   "metadata": {},
   "source": [
    "# Generar todos los Embeddings"
   ]
  },
  {
   "cell_type": "code",
   "execution_count": 9,
   "metadata": {},
   "outputs": [
    {
     "name": "stderr",
     "output_type": "stream",
     "text": [
      "Batches: 100%|██████████| 315/315 [01:25<00:00,  3.67it/s]"
     ]
    },
    {
     "name": "stdout",
     "output_type": "stream",
     "text": [
      "Total de embeddings generados: 10067\n",
      "Dimensión del primer embedding: 384\n"
     ]
    },
    {
     "name": "stderr",
     "output_type": "stream",
     "text": [
      "\n"
     ]
    }
   ],
   "source": [
    "# Generación de embeddings para los chunks\n",
    "from sentence_transformers import SentenceTransformer\n",
    "\n",
    "# Cargar el modelo preentrenado\n",
    "model = SentenceTransformer('all-MiniLM-L6-v2')\n",
    "\n",
    "# Generar embeddings para todos los chunks\n",
    "embeddings_list = model.encode(all_chunks, show_progress_bar=True)\n",
    "\n",
    "# Verificar la cantidad y las dimensiones de los embeddings generados\n",
    "print(f\"Total de embeddings generados: {len(embeddings_list)}\")\n",
    "print(f\"Dimensión del primer embedding: {len(embeddings_list[0])}\")"
   ]
  },
  {
   "cell_type": "markdown",
   "metadata": {},
   "source": [
    "# Vactor Base - Qdrant"
   ]
  },
  {
   "cell_type": "code",
   "execution_count": 11,
   "metadata": {},
   "outputs": [
    {
     "name": "stdout",
     "output_type": "stream",
     "text": [
      "El índice 'regulacion_alimentaria' ya existe.\n",
      "Lot 1 insertado exitosamente con 100 puntos.\n",
      "Lot 2 insertado exitosamente con 100 puntos.\n",
      "Lot 3 insertado exitosamente con 100 puntos.\n",
      "Lot 4 insertado exitosamente con 100 puntos.\n",
      "Lot 5 insertado exitosamente con 100 puntos.\n",
      "Lot 6 insertado exitosamente con 100 puntos.\n",
      "Lot 7 insertado exitosamente con 100 puntos.\n",
      "Lot 8 insertado exitosamente con 100 puntos.\n",
      "Lot 9 insertado exitosamente con 100 puntos.\n",
      "Lot 10 insertado exitosamente con 100 puntos.\n",
      "Lot 11 insertado exitosamente con 100 puntos.\n",
      "Lot 12 insertado exitosamente con 100 puntos.\n",
      "Lot 13 insertado exitosamente con 100 puntos.\n",
      "Lot 14 insertado exitosamente con 100 puntos.\n",
      "Lot 15 insertado exitosamente con 100 puntos.\n",
      "Lot 16 insertado exitosamente con 100 puntos.\n",
      "Lot 17 insertado exitosamente con 100 puntos.\n",
      "Lot 18 insertado exitosamente con 100 puntos.\n",
      "Lot 19 insertado exitosamente con 100 puntos.\n",
      "Lot 20 insertado exitosamente con 100 puntos.\n",
      "Lot 21 insertado exitosamente con 100 puntos.\n",
      "Lot 22 insertado exitosamente con 100 puntos.\n",
      "Lot 23 insertado exitosamente con 100 puntos.\n",
      "Lot 24 insertado exitosamente con 100 puntos.\n",
      "Lot 25 insertado exitosamente con 100 puntos.\n",
      "Lot 26 insertado exitosamente con 100 puntos.\n",
      "Lot 27 insertado exitosamente con 100 puntos.\n",
      "Lot 28 insertado exitosamente con 100 puntos.\n",
      "Lot 29 insertado exitosamente con 100 puntos.\n",
      "Lot 30 insertado exitosamente con 100 puntos.\n",
      "Lot 31 insertado exitosamente con 100 puntos.\n",
      "Lot 32 insertado exitosamente con 100 puntos.\n",
      "Lot 33 insertado exitosamente con 100 puntos.\n",
      "Lot 34 insertado exitosamente con 100 puntos.\n",
      "Lot 35 insertado exitosamente con 100 puntos.\n",
      "Lot 36 insertado exitosamente con 100 puntos.\n",
      "Lot 37 insertado exitosamente con 100 puntos.\n",
      "Lot 38 insertado exitosamente con 100 puntos.\n",
      "Lot 39 insertado exitosamente con 100 puntos.\n",
      "Lot 40 insertado exitosamente con 100 puntos.\n",
      "Lot 41 insertado exitosamente con 100 puntos.\n",
      "Lot 42 insertado exitosamente con 100 puntos.\n",
      "Lot 43 insertado exitosamente con 100 puntos.\n",
      "Lot 44 insertado exitosamente con 100 puntos.\n",
      "Lot 45 insertado exitosamente con 100 puntos.\n",
      "Lot 46 insertado exitosamente con 100 puntos.\n",
      "Lot 47 insertado exitosamente con 100 puntos.\n",
      "Lot 48 insertado exitosamente con 100 puntos.\n",
      "Lot 49 insertado exitosamente con 100 puntos.\n",
      "Lot 50 insertado exitosamente con 100 puntos.\n",
      "Lot 51 insertado exitosamente con 100 puntos.\n",
      "Lot 52 insertado exitosamente con 100 puntos.\n",
      "Lot 53 insertado exitosamente con 100 puntos.\n",
      "Lot 54 insertado exitosamente con 100 puntos.\n",
      "Lot 55 insertado exitosamente con 100 puntos.\n",
      "Lot 56 insertado exitosamente con 100 puntos.\n",
      "Lot 57 insertado exitosamente con 100 puntos.\n",
      "Lot 58 insertado exitosamente con 100 puntos.\n",
      "Lot 59 insertado exitosamente con 100 puntos.\n",
      "Lot 60 insertado exitosamente con 100 puntos.\n",
      "Lot 61 insertado exitosamente con 100 puntos.\n",
      "Lot 62 insertado exitosamente con 100 puntos.\n",
      "Lot 63 insertado exitosamente con 100 puntos.\n",
      "Lot 64 insertado exitosamente con 100 puntos.\n",
      "Lot 65 insertado exitosamente con 100 puntos.\n",
      "Lot 66 insertado exitosamente con 100 puntos.\n",
      "Lot 67 insertado exitosamente con 100 puntos.\n",
      "Lot 68 insertado exitosamente con 100 puntos.\n",
      "Lot 69 insertado exitosamente con 100 puntos.\n",
      "Lot 70 insertado exitosamente con 100 puntos.\n",
      "Lot 71 insertado exitosamente con 100 puntos.\n",
      "Lot 72 insertado exitosamente con 100 puntos.\n",
      "Lot 73 insertado exitosamente con 100 puntos.\n",
      "Lot 74 insertado exitosamente con 100 puntos.\n",
      "Lot 75 insertado exitosamente con 100 puntos.\n",
      "Lot 76 insertado exitosamente con 100 puntos.\n",
      "Lot 77 insertado exitosamente con 100 puntos.\n",
      "Lot 78 insertado exitosamente con 100 puntos.\n",
      "Lot 79 insertado exitosamente con 100 puntos.\n",
      "Lot 80 insertado exitosamente con 100 puntos.\n",
      "Lot 81 insertado exitosamente con 100 puntos.\n",
      "Lot 82 insertado exitosamente con 100 puntos.\n",
      "Lot 83 insertado exitosamente con 100 puntos.\n",
      "Lot 84 insertado exitosamente con 100 puntos.\n",
      "Lot 85 insertado exitosamente con 100 puntos.\n",
      "Lot 86 insertado exitosamente con 100 puntos.\n",
      "Lot 87 insertado exitosamente con 100 puntos.\n",
      "Lot 88 insertado exitosamente con 100 puntos.\n",
      "Lot 89 insertado exitosamente con 100 puntos.\n",
      "Lot 90 insertado exitosamente con 100 puntos.\n",
      "Lot 91 insertado exitosamente con 100 puntos.\n",
      "Lot 92 insertado exitosamente con 100 puntos.\n",
      "Lot 93 insertado exitosamente con 100 puntos.\n",
      "Lot 94 insertado exitosamente con 100 puntos.\n",
      "Lot 95 insertado exitosamente con 100 puntos.\n",
      "Lot 96 insertado exitosamente con 100 puntos.\n",
      "Lot 97 insertado exitosamente con 100 puntos.\n",
      "Lot 98 insertado exitosamente con 100 puntos.\n",
      "Lot 99 insertado exitosamente con 100 puntos.\n",
      "Lot 100 insertado exitosamente con 100 puntos.\n",
      "Lot 101 insertado exitosamente con 67 puntos.\n"
     ]
    }
   ],
   "source": [
    "# En el notebook donde quieras usar las funciones de Qdrant\n",
    "from vector_store_client import connect_to_qdrant, create_qdrant_index, insert_embeddings, search_qdrant, format_qdrant_results\n",
    "\n",
    "# Usar las funciones de Qdrant\n",
    "api_url = \"TU_URL_DE_QDRANT\"  # Sustituye con tu URL real\n",
    "api_key = \"TU_API_KEY\"  # Sustituye con tu API Key real\n",
    "qdrant_client = connect_to_qdrant()\n",
    "\n",
    "# Crear el índice si no existe\n",
    "index_name = \"regulacion_alimentaria\"\n",
    "dimension = 384\n",
    "create_qdrant_index(qdrant_client, index_name, dimension)\n",
    "\n",
    "# Insertar los embeddings\n",
    "insert_embeddings(qdrant_client, index_name, embeddings_list, metadata_list, batch_size=100)"
   ]
  },
  {
   "cell_type": "code",
   "execution_count": 12,
   "metadata": {},
   "outputs": [
    {
     "name": "stdout",
     "output_type": "stream",
     "text": [
      "Consulta: ¿Qué requisitos deben cumplir los alimentos para ser etiquetados correctamente en Argentina?\n",
      "\n",
      "Total de resultados encontrados: 5\n",
      "\n",
      "ID: 886665c6-361a-47d7-b951-64365fee8249\n",
      "Puntaje de Similitud (score): 0.7129024\n",
      "Contenido relevante: dice:  \n",
      " \n",
      "Toda reglamentación específica a que se refiere la Resolución Grupo Mercado Común N° 47/03 \n",
      "tendrán únicamente como excepción las previstas por la Autoridad Sanitaria Nacional.  \n",
      " \n",
      "El rotulado de alimentos comprendidos en el Capítulo XVII – Alimentos de régimen o dietéticos \n",
      "– del Código Alimentario Argentino, deberá cumplir obligatoriamente las exigencias de la \n",
      "presente resolución y aquellas específicas del Código Alimentario Argentino que no sean...\n",
      "--------------------------------------------------------------------------------\n",
      "ID: 3d3dff4c-7127-4f21-9753-9529681b1cd1\n",
      "Puntaje de Similitud (score): 0.7129024\n",
      "Contenido relevante: dice:  \n",
      " \n",
      "Toda reglamentación específica a que se refiere la Resolución Grupo Mercado Común N° 47/03 \n",
      "tendrán únicamente como excepción las previstas por la Autoridad Sanitaria Nacional.  \n",
      " \n",
      "El rotulado de alimentos comprendidos en el Capítulo XVII – Alimentos de régimen o dietéticos \n",
      "– del Código Alimentario Argentino, deberá cumplir obligatoriamente las exigencias de la \n",
      "presente resolución y aquellas específicas del Código Alimentario Argentino que no sean...\n",
      "--------------------------------------------------------------------------------\n",
      "ID: e24849be-c922-40f5-a398-e15974b63c7c\n",
      "Puntaje de Similitud (score): 0.7129024\n",
      "Contenido relevante: dice:  \n",
      " \n",
      "Toda reglamentación específica a que se refiere la Resolución Grupo Mercado Común N° 47/03 \n",
      "tendrán únicamente como excepción las previstas por la Autoridad Sanitaria Nacional.  \n",
      " \n",
      "El rotulado de alimentos comprendidos en el Capítulo XVII – Alimentos de régimen o dietéticos \n",
      "– del Código Alimentario Argentino, deberá cumplir obligatoriamente las exigencias de la \n",
      "presente resolución y aquellas específicas del Código Alimentario Argentino que no sean...\n",
      "--------------------------------------------------------------------------------\n",
      "ID: 74cff6cd-7162-43aa-b266-df2ae9a3ef6d\n",
      "Puntaje de Similitud (score): 0.7129024\n",
      "Contenido relevante: dice:  \n",
      " \n",
      "Toda reglamentación específica a que se refiere la Resolución Grupo Mercado Común N° 47/03 \n",
      "tendrán únicamente como excepción las previstas por la Autoridad Sanitaria Nacional.  \n",
      " \n",
      "El rotulado de alimentos comprendidos en el Capítulo XVII – Alimentos de régimen o dietéticos \n",
      "– del Código Alimentario Argentino, deberá cumplir obligatoriamente las exigencias de la \n",
      "presente resolución y aquellas específicas del Código Alimentario Argentino que no sean...\n",
      "--------------------------------------------------------------------------------\n",
      "ID: a5210a59-46e8-45d5-abd4-7d497739aa20\n",
      "Puntaje de Similitud (score): 0.68735677\n",
      "Contenido relevante: como parte de la Resolución.  \n",
      " \n",
      "Art 2° - Los Estados Partes pondrán en vigencia las disposiciones legislativas, reglamentarias y \n",
      "administrativas necesarias para dar cumplimiento a la presente Resolución y comunicarán el \n",
      "texto de la misma a l Grupo Mercado Común.  \n",
      " \n",
      "Art 3° - Las autoridades competentes de los Estados Parte, encargadas de implementar la \n",
      "presente Resolución serán:  \n",
      "Argentina: Ministerio de Salud y Acción Social; Ministerio de Economía y Obras y Servicios...\n",
      "--------------------------------------------------------------------------------\n"
     ]
    }
   ],
   "source": [
    "# Realizar una búsqueda\n",
    "query = \"¿Qué requisitos deben cumplir los alimentos para ser etiquetados correctamente en Argentina?\"\n",
    "query_embedding = model.encode([query])[0]\n",
    "search_results = search_qdrant(qdrant_client, index_name, query_embedding, limit=5)\n",
    "\n",
    "# Mostrar resultados (Si es necesario)\n",
    "format_qdrant_results(query, search_results)"
   ]
  },
  {
   "cell_type": "code",
   "execution_count": null,
   "metadata": {},
   "outputs": [],
   "source": []
  }
 ],
 "metadata": {
  "kernelspec": {
   "display_name": "proyecto_aplicado_rag",
   "language": "python",
   "name": "python3"
  },
  "language_info": {
   "codemirror_mode": {
    "name": "ipython",
    "version": 3
   },
   "file_extension": ".py",
   "mimetype": "text/x-python",
   "name": "python",
   "nbconvert_exporter": "python",
   "pygments_lexer": "ipython3",
   "version": "3.11.10"
  }
 },
 "nbformat": 4,
 "nbformat_minor": 2
}
